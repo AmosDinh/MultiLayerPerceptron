{
 "cells": [
  {
   "attachments": {},
   "cell_type": "markdown",
   "metadata": {},
   "source": [
    "# Basic MLP"
   ]
  },
  {
   "cell_type": "code",
   "execution_count": 403,
   "metadata": {},
   "outputs": [],
   "source": [
    "import numpy as np"
   ]
  },
  {
   "cell_type": "code",
   "execution_count": 404,
   "metadata": {},
   "outputs": [],
   "source": [
    "class node: \n",
    "    def __init__(self, which, childnodes) -> None:\n",
    "        self.theta = np.random.random(3)\n",
    "        if which =='sigmoid':\n",
    "            self.activation_function = sigmoid\n",
    "            self.activation_function_derivative = sigmoid_derivative\n",
    "        elif which == 'relu':\n",
    "            self.activation_function = relu\n",
    "            self.activation_function_derivative = relu_derivative\n",
    "            \n",
    "        \n",
    "        self.childnodes = childnodes\n",
    "        self.parentnodes = []  # for backpropagation\n",
    "        self.z = 0\n",
    "        self.return_saved = False\n",
    "        \n",
    "\n",
    "\n",
    "    def activation(self):\n",
    "        if self.return_saved:\n",
    "            return self.z\n",
    "        # store childactivations for backpropagation\n",
    "        self.childactivations = np.array([node.activation() for node in self.childnodes])\n",
    "        self.a = self._preactivation(self.theta, self.childactivations)\n",
    "        self.z = self.activation_function(self.a)\n",
    "        # print('a',self.a, 'z',self.z)\n",
    "        self.return_saved = True\n",
    "        return self.z\n",
    "\n",
    "    def _preactivation(self, theta, x):\n",
    "        return theta @ x\n",
    "\n",
    "    def backpropagation(self, alpha):\n",
    "        # compute error gradient\n",
    "        self.error_gradient = 0\n",
    "        for i,parentnode in enumerate(self.parentnodes):\n",
    "            if parentnode.__class__.__name__ != 'node':  # last layer, where loss is 2(ypred-y)\n",
    "                self.error_gradient+=parentnode \n",
    "            else:\n",
    "                self.error_gradient+=parentnode.error_gradient *  parentnode.activation_function_derivative(parentnode.z) *  parentnode.get_theta(self)             \n",
    "\n",
    "        # print('error_gradient',self.error_gradient)\n",
    "        # compute new weights\n",
    "        for j in range(len(self.theta)):\n",
    "            self.theta[j] = self.theta[j] -alpha*self.error_gradient * self.activation_function_derivative(self.z) * self.childnodes[j].z\n",
    "\n",
    "    def get_theta(self, childnode):\n",
    "        for i, cn in enumerate(self.childnodes):\n",
    "            if cn == childnode:\n",
    "                return self.theta[i]\n",
    "    \n",
    "    def undo_return_saved(self):\n",
    "        self.return_saved = False\n",
    "        for node in self.childnodes:\n",
    "            if node.__class__.__name__ == 'node':\n",
    "                node.undo_return_saved()\n",
    "    \n",
    "    \n",
    "                \n",
    "class value:\n",
    "    def __init__(self,value) -> None:\n",
    "      self.z = value\n",
    "    \n",
    "    def activation(self):\n",
    "        return self.z\n",
    "\n",
    "\n",
    "\n",
    "def sigmoid(a):\n",
    "    return 1/(1+np.e**(-a))\n",
    "\n",
    "def sigmoid_derivative(a):\n",
    "    return a*(1-a)\n",
    "\n",
    "def relu(a):\n",
    "    return max(0,a)\n",
    "\n",
    "def relu_derivative(a):\n",
    "    return int(a>0)\n",
    "\n"
   ]
  },
  {
   "attachments": {},
   "cell_type": "markdown",
   "metadata": {},
   "source": [
    "### Structure"
   ]
  },
  {
   "cell_type": "code",
   "execution_count": 405,
   "metadata": {},
   "outputs": [],
   "source": [
    "# hypothesis(node03)\n",
    "#         /|\\    \n",
    "# bias02 node12 node22  \n",
    "#         /|\\    //|  \n",
    "# bias01 node11 node21  \n",
    "#         /|\\    //|  \n",
    "# bias00   x0     x1    "
   ]
  },
  {
   "cell_type": "code",
   "execution_count": 406,
   "metadata": {},
   "outputs": [],
   "source": [
    "# input\n",
    "bias00 = value(1)\n",
    "x0 = value(0)\n",
    "x1 = value(0)\n",
    "\n",
    "# first hidden layer\n",
    "bias01 = value(1)\n",
    "node11 = node('sigmoid', childnodes=[bias00, x0, x1])\n",
    "node21 = node('sigmoid', childnodes=[bias00, x0, x1])\n",
    "\n",
    "# second hidden layer\n",
    "bias02 = value(1)\n",
    "node12 = node('sigmoid', childnodes=[bias01, node11, node21])\n",
    "node22 = node('sigmoid', childnodes=[bias01, node11, node21])\n",
    "\n",
    "# link back backpropagation\n",
    "node11.parentnodes = [node12, node22]\n",
    "node21.parentnodes = [node12, node22]\n",
    "# output\n",
    "node03 = node('sigmoid', childnodes=[bias02, node12, node22])\n",
    "# node13 = node('sigmoid', childnodes=[bias02, node12, node22])\n",
    "\n",
    "# link back for backpropagation\n",
    "node12.parentnodes = [node03]\n",
    "node22.parentnodes = [node03]\n",
    "\n",
    "def hypothesis(x):\n",
    "    x0.z = x[0]\n",
    "    x1.z = x[1]\n",
    "    \n",
    "    y0 = node03.activation()\n",
    "    # y1 = node13.activation(compute_state)\n",
    "\n",
    "    \n",
    "    \n",
    "    # node13.change_compute_state(compute_state)\n",
    "    # print(y0)\n",
    "    node03.undo_return_saved()\n",
    "    return [y0]\n",
    "\n",
    "\n",
    "# probably should have used this from the start ->\n",
    "layers = [[node03],[node12,node22], [node11, node21]]\n",
    "\n",
    "def backpropagation(y, alpha):\n",
    "    loss_derivative(node03.z, y)\n",
    "    node03.parentnodes = [loss_derivative(node03.z, y)]\n",
    "    \n",
    "    for layer in layers:\n",
    "        for node in layer:\n",
    "            node.backpropagation(alpha=0.1)\n",
    "\n",
    "    # node13.backpropagation()\n",
    "\n",
    "def loss_derivative(ypred, y):\n",
    "    return 2*(ypred-y)\n"
   ]
  },
  {
   "cell_type": "code",
   "execution_count": 407,
   "metadata": {},
   "outputs": [
    {
     "name": "stdout",
     "output_type": "stream",
     "text": [
      "layer\n",
      "[0.03930218 0.59694486 0.71063289]\n",
      "layer\n",
      "[0.41696176 0.61061056 0.24830671]\n",
      "[0.98009307 0.56438952 0.44269984]\n",
      "layer\n",
      "[0.79101798 0.50929619 0.10326919]\n",
      "[0.34318376 0.71704104 0.00650775]\n"
     ]
    }
   ],
   "source": [
    "for layer in layers:\n",
    "    print('layer')\n",
    "    for node in layer:\n",
    "        print(node.theta)"
   ]
  },
  {
   "attachments": {},
   "cell_type": "markdown",
   "metadata": {},
   "source": [
    "## Test XOR\n"
   ]
  },
  {
   "attachments": {},
   "cell_type": "markdown",
   "metadata": {},
   "source": [
    "### Forward Phase"
   ]
  },
  {
   "cell_type": "code",
   "execution_count": 408,
   "metadata": {},
   "outputs": [],
   "source": [
    "X = np.array([[0,0], \n",
    "              [0,1],\n",
    "              [1,0],\n",
    "              [1,1]])\n",
    "y = np.array([0,1,1,0])"
   ]
  },
  {
   "cell_type": "code",
   "execution_count": 409,
   "metadata": {},
   "outputs": [
    {
     "data": {
      "text/plain": [
       "[0.7441360161775147]"
      ]
     },
     "execution_count": 409,
     "metadata": {},
     "output_type": "execute_result"
    }
   ],
   "source": [
    "hypothesis(X[0])"
   ]
  },
  {
   "attachments": {},
   "cell_type": "markdown",
   "metadata": {},
   "source": [
    "### Backward phase"
   ]
  },
  {
   "attachments": {},
   "cell_type": "markdown",
   "metadata": {},
   "source": [
    "#### Stochastic (1 sample)"
   ]
  },
  {
   "cell_type": "code",
   "execution_count": 411,
   "metadata": {},
   "outputs": [
    {
     "data": {
      "text/plain": [
       "[<matplotlib.lines.Line2D at 0x1e11f779420>]"
      ]
     },
     "execution_count": 411,
     "metadata": {},
     "output_type": "execute_result"
    },
    {
     "data": {
      "image/png": "[encoded data removed]",
      "text/plain": [
       "<Figure size 640x480 with 1 Axes>"
      ]
     },
     "metadata": {},
     "output_type": "display_data"
    }
   ],
   "source": [
    "import matplotlib.pyplot as plt\n",
    "errors = []\n",
    "\n",
    "for _ in range(100000):\n",
    "    idx = np.random.randint(0,len(y))\n",
    "    hypothesis(X[idx])\n",
    "    backpropagation(y[idx], alpha=0.05)\n",
    "    error = sum((hypothesis(X[i])[0]-y[i])**2 for i in range(len(y)))\n",
    "    errors.append(error)\n",
    "    if error<0.1:\n",
    "        break\n",
    "\n",
    "plt.plot(np.arange(len(errors)),errors)"
   ]
  },
  {
   "cell_type": "code",
   "execution_count": 413,
   "metadata": {},
   "outputs": [
    {
     "name": "stdout",
     "output_type": "stream",
     "text": [
      "X: [0 0]\n",
      "y: 0 \n",
      "y_pred: 0.06094990783143816\n",
      "\n",
      "X: [0 1]\n",
      "y: 1 \n",
      "y_pred: 0.8375762146361848\n",
      "\n",
      "X: [1 0]\n",
      "y: 1 \n",
      "y_pred: 0.8331687711029321\n",
      "\n",
      "X: [1 1]\n",
      "y: 0 \n",
      "y_pred: 0.20489064920615738\n",
      "\n"
     ]
    }
   ],
   "source": [
    "for i in range(len(y)):\n",
    "    print(f'X: {X[i]}')\n",
    "    print(f'y: {y[i]} \\ny_pred: {hypothesis(X[i])[0]}\\n')\n"
   ]
  }
 ],
 "metadata": {
  "kernelspec": {
   "display_name": "base",
   "language": "python",
   "name": "python3"
  },
  "language_info": {
   "codemirror_mode": {
    "name": "ipython",
    "version": 3
   },
   "file_extension": ".py",
   "mimetype": "text/x-python",
   "name": "python",
   "nbconvert_exporter": "python",
   "pygments_lexer": "ipython3",
   "version": "3.10.8"
  },
  "orig_nbformat": 4,
  "vscode": {
   "interpreter": {
    "hash": "196a0681ce7c087a7600e9775b44d894361c03f643a5aa47a69fc13bf697e99b"
   }
  }
 },
 "nbformat": 4,
 "nbformat_minor": 2
}
